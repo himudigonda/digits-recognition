{
 "cells": [
  {
   "cell_type": "markdown",
   "id": "0c51b405",
   "metadata": {
    "papermill": {
     "duration": 0.016375,
     "end_time": "2022-02-12T06:23:56.322876",
     "exception": false,
     "start_time": "2022-02-12T06:23:56.306501",
     "status": "completed"
    },
    "tags": []
   },
   "source": [
    "# Digit Recognizer using TensorFlow and Deep Learning\n",
    "## @author: @ruhend(Mudigonda Himansh)\n"
   ]
  },
  {
   "cell_type": "markdown",
   "id": "7273acd5",
   "metadata": {
    "papermill": {
     "duration": 0.014916,
     "end_time": "2022-02-12T06:23:56.355085",
     "exception": false,
     "start_time": "2022-02-12T06:23:56.340169",
     "status": "completed"
    },
    "tags": []
   },
   "source": [
    "# Importing required packages"
   ]
  },
  {
   "cell_type": "code",
   "execution_count": 1,
   "id": "cf983dd3",
   "metadata": {
    "execution": {
     "iopub.execute_input": "2022-02-12T06:23:56.390583Z",
     "iopub.status.busy": "2022-02-12T06:23:56.389080Z",
     "iopub.status.idle": "2022-02-12T06:24:01.548964Z",
     "shell.execute_reply": "2022-02-12T06:24:01.548341Z",
     "shell.execute_reply.started": "2022-02-12T06:17:30.091317Z"
    },
    "papermill": {
     "duration": 5.178942,
     "end_time": "2022-02-12T06:24:01.549110",
     "exception": false,
     "start_time": "2022-02-12T06:23:56.370168",
     "status": "completed"
    },
    "tags": []
   },
   "outputs": [],
   "source": [
    "import numpy as np\n",
    "import pandas as pd\n",
    "import matplotlib.pyplot as plt\n",
    "%matplotlib inline\n",
    "\n",
    "from sklearn.utils import shuffle\n",
    "from keras.models import Sequential\n",
    "from keras.layers import Dense, Dropout, Flatten"
   ]
  },
  {
   "cell_type": "markdown",
   "id": "8106c811",
   "metadata": {
    "papermill": {
     "duration": 0.015854,
     "end_time": "2022-02-12T06:24:01.580719",
     "exception": false,
     "start_time": "2022-02-12T06:24:01.564865",
     "status": "completed"
    },
    "tags": []
   },
   "source": [
    "# Loading data"
   ]
  },
  {
   "cell_type": "code",
   "execution_count": 2,
   "id": "c3c4f884",
   "metadata": {
    "execution": {
     "iopub.execute_input": "2022-02-12T06:24:01.616930Z",
     "iopub.status.busy": "2022-02-12T06:24:01.616124Z",
     "iopub.status.idle": "2022-02-12T06:24:06.819818Z",
     "shell.execute_reply": "2022-02-12T06:24:06.819013Z",
     "shell.execute_reply.started": "2022-02-12T06:16:29.555834Z"
    },
    "papermill": {
     "duration": 5.223842,
     "end_time": "2022-02-12T06:24:06.819949",
     "exception": false,
     "start_time": "2022-02-12T06:24:01.596107",
     "status": "completed"
    },
    "tags": []
   },
   "outputs": [
    {
     "name": "stdout",
     "output_type": "stream",
     "text": [
      "Shape of Test Data : (28000, 784)\n",
      "Shape of Train Data : (42000, 785)\n"
     ]
    }
   ],
   "source": [
    "test = pd.read_csv('test.csv') # Loading Test Data\n",
    "train = pd.read_csv('train.csv') # Loading Train Data\n",
    "\n",
    "# Shape of Dataset\n",
    "\n",
    "test_shape = np.shape(test)\n",
    "train_shape = np.shape(train)\n",
    "\n",
    "img_size = (28,28)\n",
    "\n",
    "print(f'Shape of Test Data : {test_shape}')\n",
    "print(f'Shape of Train Data : {train_shape}')"
   ]
  },
  {
   "cell_type": "markdown",
   "id": "933e63cb",
   "metadata": {
    "papermill": {
     "duration": 0.01648,
     "end_time": "2022-02-12T06:24:06.853041",
     "exception": false,
     "start_time": "2022-02-12T06:24:06.836561",
     "status": "completed"
    },
    "tags": []
   },
   "source": [
    "# Data visualization"
   ]
  },
  {
   "cell_type": "markdown",
   "id": "20c3c2b1",
   "metadata": {
    "papermill": {
     "duration": 0.015568,
     "end_time": "2022-02-12T06:24:06.884181",
     "exception": false,
     "start_time": "2022-02-12T06:24:06.868613",
     "status": "completed"
    },
    "tags": []
   },
   "source": [
    "## Sample image from train data"
   ]
  },
  {
   "cell_type": "code",
   "execution_count": 3,
   "id": "eb3397cb",
   "metadata": {
    "execution": {
     "iopub.execute_input": "2022-02-12T06:24:06.922848Z",
     "iopub.status.busy": "2022-02-12T06:24:06.922064Z",
     "iopub.status.idle": "2022-02-12T06:24:07.130973Z",
     "shell.execute_reply": "2022-02-12T06:24:07.131385Z",
     "shell.execute_reply.started": "2022-02-12T06:16:34.846803Z"
    },
    "papermill": {
     "duration": 0.229738,
     "end_time": "2022-02-12T06:24:07.131552",
     "exception": false,
     "start_time": "2022-02-12T06:24:06.901814",
     "status": "completed"
    },
    "tags": []
   },
   "outputs": [
    {
     "data": {
      "text/plain": [
       "Text(0.5, 1.0, 'Digit : 6')"
      ]
     },
     "execution_count": 3,
     "metadata": {},
     "output_type": "execute_result"
    },
    {
     "data": {
      "image/png": "[encoded data removed]",
      "text/plain": [
       "<Figure size 432x288 with 1 Axes>"
      ]
     },
     "metadata": {
      "needs_background": "light"
     },
     "output_type": "display_data"
    }
   ],
   "source": [
    "n = np.random.randint(0,train_shape[0]) # Generating Random Number\n",
    "sample = train.iloc[n,1:]\n",
    "sample = np.array(sample)\n",
    "sample = np.reshape(sample,img_size)\n",
    "\n",
    "plt.imshow(sample)\n",
    "plt.title('Digit : ' + str(train.iloc[n,0]))"
   ]
  },
  {
   "cell_type": "markdown",
   "id": "2de76154",
   "metadata": {
    "papermill": {
     "duration": 0.016266,
     "end_time": "2022-02-12T06:24:07.164354",
     "exception": false,
     "start_time": "2022-02-12T06:24:07.148088",
     "status": "completed"
    },
    "tags": []
   },
   "source": [
    "## Unique classes & their count"
   ]
  },
  {
   "cell_type": "code",
   "execution_count": 4,
   "id": "3efefcd6",
   "metadata": {
    "execution": {
     "iopub.execute_input": "2022-02-12T06:24:07.223637Z",
     "iopub.status.busy": "2022-02-12T06:24:07.222543Z",
     "iopub.status.idle": "2022-02-12T06:24:07.381333Z",
     "shell.execute_reply": "2022-02-12T06:24:07.380882Z",
     "shell.execute_reply.started": "2022-02-12T06:16:35.095692Z"
    },
    "papermill": {
     "duration": 0.200695,
     "end_time": "2022-02-12T06:24:07.381458",
     "exception": false,
     "start_time": "2022-02-12T06:24:07.180763",
     "status": "completed"
    },
    "tags": []
   },
   "outputs": [
    {
     "name": "stdout",
     "output_type": "stream",
     "text": [
      " Labels and their count :\n",
      " {1: 4684, 7: 4401, 3: 4351, 9: 4188, 2: 4177, 6: 4137, 0: 4132, 4: 4072, 8: 4063, 5: 3795}\n"
     ]
    },
    {
     "data": {
      "image/png": "[encoded data removed]",
      "text/plain": [
       "<Figure size 720x360 with 1 Axes>"
      ]
     },
     "metadata": {
      "needs_background": "light"
     },
     "output_type": "display_data"
    }
   ],
   "source": [
    "label_count = dict(train.label.value_counts())\n",
    "print(f' Labels and their count :\\n {label_count}')\n",
    "\n",
    "x = list(label_count.keys())\n",
    "y = list(label_count.values())\n",
    "\n",
    "fig = plt.figure(figsize = (10,5))\n",
    "plt.bar(x,y,width = 0.5)\n",
    "plt.title('Labels vs Count')\n",
    "plt.xlabel('Labels')\n",
    "plt.ylabel('Count')\n",
    "plt.show()"
   ]
  },
  {
   "cell_type": "markdown",
   "id": "e793b0ab",
   "metadata": {
    "papermill": {
     "duration": 0.017218,
     "end_time": "2022-02-12T06:24:07.416356",
     "exception": false,
     "start_time": "2022-02-12T06:24:07.399138",
     "status": "completed"
    },
    "tags": []
   },
   "source": [
    "# Preprocessing"
   ]
  },
  {
   "cell_type": "code",
   "execution_count": 5,
   "id": "51d20a57",
   "metadata": {
    "execution": {
     "iopub.execute_input": "2022-02-12T06:24:07.457402Z",
     "iopub.status.busy": "2022-02-12T06:24:07.456573Z",
     "iopub.status.idle": "2022-02-12T06:24:13.951001Z",
     "shell.execute_reply": "2022-02-12T06:24:13.950513Z",
     "shell.execute_reply.started": "2022-02-12T06:16:35.304971Z"
    },
    "papermill": {
     "duration": 6.517296,
     "end_time": "2022-02-12T06:24:13.951148",
     "exception": false,
     "start_time": "2022-02-12T06:24:07.433852",
     "status": "completed"
    },
    "tags": []
   },
   "outputs": [],
   "source": [
    "train_images = []\n",
    "\n",
    "for i in range(train_shape[0]):\n",
    "    data = train.iloc[i,1:]\n",
    "    data = np.array(data)\n",
    "    data = np.reshape(data,img_size)\n",
    "    train_images.append(data)\n",
    "    \n",
    "train_images = np.array(train_images)"
   ]
  },
  {
   "cell_type": "code",
   "execution_count": 6,
   "id": "2bebcf96",
   "metadata": {
    "execution": {
     "iopub.execute_input": "2022-02-12T06:24:13.993899Z",
     "iopub.status.busy": "2022-02-12T06:24:13.993077Z",
     "iopub.status.idle": "2022-02-12T06:24:16.925604Z",
     "shell.execute_reply": "2022-02-12T06:24:16.925085Z",
     "shell.execute_reply.started": "2022-02-12T06:16:41.906900Z"
    },
    "papermill": {
     "duration": 2.956276,
     "end_time": "2022-02-12T06:24:16.925746",
     "exception": false,
     "start_time": "2022-02-12T06:24:13.969470",
     "status": "completed"
    },
    "tags": []
   },
   "outputs": [],
   "source": [
    "test_images = []\n",
    "\n",
    "for i in range(test_shape[0]):\n",
    "    data = test.iloc[i,:]\n",
    "    data = np.array(data)\n",
    "    data = np.reshape(data,img_size)\n",
    "    test_images.append(data)\n",
    "\n",
    "test_images = np.array(test_images)"
   ]
  },
  {
   "cell_type": "code",
   "execution_count": 7,
   "id": "43739735",
   "metadata": {
    "execution": {
     "iopub.execute_input": "2022-02-12T06:24:16.975971Z",
     "iopub.status.busy": "2022-02-12T06:24:16.975168Z",
     "iopub.status.idle": "2022-02-12T06:24:16.977132Z",
     "shell.execute_reply": "2022-02-12T06:24:16.977518Z",
     "shell.execute_reply.started": "2022-02-12T06:16:45.521003Z"
    },
    "papermill": {
     "duration": 0.033865,
     "end_time": "2022-02-12T06:24:16.977652",
     "exception": false,
     "start_time": "2022-02-12T06:24:16.943787",
     "status": "completed"
    },
    "tags": []
   },
   "outputs": [],
   "source": [
    "train_labels = list(train.iloc[:,0])\n",
    "train_labels = np.array(train_labels)\n",
    "train_labels = np.reshape(train_labels,(train_shape[0],1))"
   ]
  },
  {
   "cell_type": "code",
   "execution_count": 8,
   "id": "0149088a",
   "metadata": {
    "execution": {
     "iopub.execute_input": "2022-02-12T06:24:17.021564Z",
     "iopub.status.busy": "2022-02-12T06:24:17.020463Z",
     "iopub.status.idle": "2022-02-12T06:24:17.103515Z",
     "shell.execute_reply": "2022-02-12T06:24:17.102993Z",
     "shell.execute_reply.started": "2022-02-12T06:19:37.478419Z"
    },
    "papermill": {
     "duration": 0.108545,
     "end_time": "2022-02-12T06:24:17.103656",
     "exception": false,
     "start_time": "2022-02-12T06:24:16.995111",
     "status": "completed"
    },
    "tags": []
   },
   "outputs": [],
   "source": [
    "train_images, train_labels = shuffle(train_images, train_labels, random_state=10)"
   ]
  },
  {
   "cell_type": "markdown",
   "id": "14dc8ee9",
   "metadata": {
    "papermill": {
     "duration": 0.017461,
     "end_time": "2022-02-12T06:24:17.139196",
     "exception": false,
     "start_time": "2022-02-12T06:24:17.121735",
     "status": "completed"
    },
    "tags": []
   },
   "source": [
    "# DNN Model"
   ]
  },
  {
   "cell_type": "code",
   "execution_count": 9,
   "id": "5d235a16",
   "metadata": {
    "execution": {
     "iopub.execute_input": "2022-02-12T06:24:17.184046Z",
     "iopub.status.busy": "2022-02-12T06:24:17.183514Z",
     "iopub.status.idle": "2022-02-12T06:27:36.295701Z",
     "shell.execute_reply": "2022-02-12T06:27:36.294751Z"
    },
    "papermill": {
     "duration": 199.138703,
     "end_time": "2022-02-12T06:27:36.295869",
     "exception": false,
     "start_time": "2022-02-12T06:24:17.157166",
     "status": "completed"
    },
    "tags": []
   },
   "outputs": [
    {
     "name": "stderr",
     "output_type": "stream",
     "text": [
      "2022-02-23 21:34:40.231371: I tensorflow/core/platform/cpu_feature_guard.cc:151] This TensorFlow binary is optimized with oneAPI Deep Neural Network Library (oneDNN) to use the following CPU instructions in performance-critical operations:  AVX2 FMA\n",
      "To enable them in other operations, rebuild TensorFlow with the appropriate compiler flags.\n"
     ]
    },
    {
     "name": "stdout",
     "output_type": "stream",
     "text": [
      "Epoch 1/16\n",
      "1313/1313 [==============================] - 466s 353ms/step - loss: 1.0986 - accuracy: 0.8003\n",
      "Epoch 2/16\n",
      "1313/1313 [==============================] - 529s 403ms/step - loss: 0.3348 - accuracy: 0.9309\n",
      "Epoch 3/16\n",
      "1313/1313 [==============================] - 497s 379ms/step - loss: 0.3005 - accuracy: 0.9411\n",
      "Epoch 4/16\n",
      "1313/1313 [==============================] - 499s 380ms/step - loss: 0.3354 - accuracy: 0.9387\n",
      "Epoch 5/16\n",
      "1313/1313 [==============================] - 500s 380ms/step - loss: 0.2253 - accuracy: 0.9527\n",
      "Epoch 6/16\n",
      "1313/1313 [==============================] - 505s 384ms/step - loss: 0.2679 - accuracy: 0.9515\n",
      "Epoch 7/16\n",
      "1313/1313 [==============================] - 500s 381ms/step - loss: 0.2292 - accuracy: 0.9550\n",
      "Epoch 8/16\n",
      "1313/1313 [==============================] - 518s 394ms/step - loss: 0.1979 - accuracy: 0.9613\n",
      "Epoch 9/16\n",
      "1313/1313 [==============================] - 519s 395ms/step - loss: 0.2001 - accuracy: 0.9606\n",
      "Epoch 10/16\n",
      "1313/1313 [==============================] - 518s 395ms/step - loss: 0.3697 - accuracy: 0.9210\n",
      "Epoch 11/16\n",
      "1313/1313 [==============================] - 536s 409ms/step - loss: 0.4815 - accuracy: 0.9107\n",
      "Epoch 12/16\n",
      "1313/1313 [==============================] - 542s 413ms/step - loss: 0.3862 - accuracy: 0.9278\n",
      "Epoch 13/16\n",
      "1313/1313 [==============================] - 548s 417ms/step - loss: 0.1989 - accuracy: 0.9587\n",
      "Epoch 14/16\n",
      "1313/1313 [==============================] - 552s 420ms/step - loss: 0.1779 - accuracy: 0.9589\n",
      "Epoch 15/16\n",
      "1313/1313 [==============================] - 520s 396ms/step - loss: 0.1846 - accuracy: 0.9616\n",
      "Epoch 16/16\n",
      "1313/1313 [==============================] - 560s 426ms/step - loss: 0.1534 - accuracy: 0.9705\n",
      "Model: \"sequential\"\n",
      "_________________________________________________________________\n",
      " Layer (type)                Output Shape              Param #   \n",
      "=================================================================\n",
      " flatten (Flatten)           (None, 784)               0         \n",
      "                                                                 \n",
      " dense (Dense)               (None, 8192)              6430720   \n",
      "                                                                 \n",
      " dense_1 (Dense)             (None, 4096)              33558528  \n",
      "                                                                 \n",
      " dense_2 (Dense)             (None, 2048)              8390656   \n",
      "                                                                 \n",
      " dropout (Dropout)           (None, 2048)              0         \n",
      "                                                                 \n",
      " dense_3 (Dense)             (None, 1024)              2098176   \n",
      "                                                                 \n",
      " dense_4 (Dense)             (None, 512)               524800    \n",
      "                                                                 \n",
      " dense_5 (Dense)             (None, 256)               131328    \n",
      "                                                                 \n",
      " dropout_1 (Dropout)         (None, 256)               0         \n",
      "                                                                 \n",
      " dense_6 (Dense)             (None, 128)               32896     \n",
      "                                                                 \n",
      " dense_7 (Dense)             (None, 64)                8256      \n",
      "                                                                 \n",
      " dense_8 (Dense)             (None, 32)                2080      \n",
      "                                                                 \n",
      " dense_9 (Dense)             (None, 10)                330       \n",
      "                                                                 \n",
      "=================================================================\n",
      "Total params: 51,177,770\n",
      "Trainable params: 51,177,770\n",
      "Non-trainable params: 0\n",
      "_________________________________________________________________\n"
     ]
    }
   ],
   "source": [
    "Model = Sequential()\n",
    "Model.add(Flatten()) # Flatten Layer\n",
    "Model.add(Dense(units = 8192,activation = 'relu',input_shape = img_size))\n",
    "Model.add(Dense(units = 4096, activation = 'relu'))\n",
    "Model.add(Dense(units = 2048, activation = 'relu'))\n",
    "Model.add(Dropout(0.5))\n",
    "Model.add(Dense(units = 1024, activation = 'relu'))\n",
    "Model.add(Dense(units = 512, activation = 'relu'))\n",
    "Model.add(Dense(units = 256, activation = 'relu'))\n",
    "Model.add(Dropout(0.5))\n",
    "Model.add(Dense(units = 128, activation = 'relu'))\n",
    "Model.add(Dense(units = 64, activation = 'relu'))\n",
    "Model.add(Dense(units = 32, activation = 'relu'))\n",
    "Model.add(Dense(units = 10, activation = 'softmax'))\n",
    "Model.compile(optimizer = \"adam\" , loss = 'sparse_categorical_crossentropy' , \n",
    "              metrics = ['accuracy'])\n",
    "hist = Model.fit(train_images, train_labels, batch_size = 32, epochs = 16)\n",
    "Model.summary()"
   ]
  },
  {
   "cell_type": "code",
   "execution_count": 10,
   "id": "da4538ad",
   "metadata": {
    "execution": {
     "iopub.execute_input": "2022-02-12T06:27:38.717848Z",
     "iopub.status.busy": "2022-02-12T06:27:38.716925Z",
     "iopub.status.idle": "2022-02-12T06:27:40.403887Z",
     "shell.execute_reply": "2022-02-12T06:27:40.404502Z"
    },
    "papermill": {
     "duration": 2.935596,
     "end_time": "2022-02-12T06:27:40.404721",
     "exception": false,
     "start_time": "2022-02-12T06:27:37.469125",
     "status": "completed"
    },
    "tags": []
   },
   "outputs": [],
   "source": [
    "predictions = Model.predict(test_images)\n",
    "predictions = np.argmax(predictions,axis=1)"
   ]
  },
  {
   "cell_type": "markdown",
   "id": "84c75402",
   "metadata": {
    "papermill": {
     "duration": 1.175167,
     "end_time": "2022-02-12T06:27:42.761633",
     "exception": false,
     "start_time": "2022-02-12T06:27:41.586466",
     "status": "completed"
    },
    "tags": []
   },
   "source": [
    "# Predicted image"
   ]
  },
  {
   "cell_type": "code",
   "execution_count": 11,
   "id": "34c33db3",
   "metadata": {
    "execution": {
     "iopub.execute_input": "2022-02-12T06:27:45.151375Z",
     "iopub.status.busy": "2022-02-12T06:27:45.138507Z",
     "iopub.status.idle": "2022-02-12T06:27:45.321506Z",
     "shell.execute_reply": "2022-02-12T06:27:45.320835Z",
     "shell.execute_reply.started": "2022-02-12T06:16:45.806334Z"
    },
    "papermill": {
     "duration": 1.371937,
     "end_time": "2022-02-12T06:27:45.321635",
     "exception": false,
     "start_time": "2022-02-12T06:27:43.949698",
     "status": "completed"
    },
    "tags": []
   },
   "outputs": [
    {
     "data": {
      "text/plain": [
       "Text(0.5, 1.0, 'Digit : 5')"
      ]
     },
     "execution_count": 11,
     "metadata": {},
     "output_type": "execute_result"
    },
    {
     "data": {
      "image/png": "[encoded data removed]",
      "text/plain": [
       "<Figure size 432x288 with 1 Axes>"
      ]
     },
     "metadata": {
      "needs_background": "light"
     },
     "output_type": "display_data"
    }
   ],
   "source": [
    "n = np.random.randint(0,test_shape[0]) # Generating Random Number\n",
    "sample = test.iloc[n,:]\n",
    "sample = np.array(sample)\n",
    "sample = np.reshape(sample,img_size)\n",
    "\n",
    "plt.imshow(sample)\n",
    "plt.title('Digit : ' + str(predictions[n]))"
   ]
  },
  {
   "cell_type": "markdown",
   "id": "56b7838d",
   "metadata": {
    "papermill": {
     "duration": 1.188823,
     "end_time": "2022-02-12T06:27:47.702770",
     "exception": false,
     "start_time": "2022-02-12T06:27:46.513947",
     "status": "completed"
    },
    "tags": []
   },
   "source": [
    "# Result"
   ]
  },
  {
   "cell_type": "code",
   "execution_count": 12,
   "id": "a0831753",
   "metadata": {
    "execution": {
     "iopub.execute_input": "2022-02-12T06:27:50.806350Z",
     "iopub.status.busy": "2022-02-12T06:27:50.642352Z",
     "iopub.status.idle": "2022-02-12T06:27:50.942455Z",
     "shell.execute_reply": "2022-02-12T06:27:50.943284Z",
     "shell.execute_reply.started": "2022-02-12T06:16:45.808364Z"
    },
    "papermill": {
     "duration": 1.623537,
     "end_time": "2022-02-12T06:27:50.943549",
     "exception": false,
     "start_time": "2022-02-12T06:27:49.320012",
     "status": "completed"
    },
    "tags": []
   },
   "outputs": [],
   "source": [
    "results = []\n",
    "\n",
    "for i in range(len(predictions)):\n",
    "    results.append([i+1,predictions[i]])\n",
    "    \n",
    "results = pd.DataFrame(results, columns = ['ImageId','Label'], index = None)\n",
    "results = results.set_index('ImageId')\n",
    "results.head()\n",
    "\n",
    "results.to_csv('Model_prediction_result.csv')"
   ]
  }
 ],
 "metadata": {
  "kernelspec": {
   "display_name": "Python 3 (ipykernel)",
   "language": "python",
   "name": "python3"
  },
  "language_info": {
   "codemirror_mode": {
    "name": "ipython",
    "version": 3
   },
   "file_extension": ".py",
   "mimetype": "text/x-python",
   "name": "python",
   "nbconvert_exporter": "python",
   "pygments_lexer": "ipython3",
   "version": "3.9.7"
  },
  "papermill": {
   "default_parameters": {},
   "duration": 246.697394,
   "end_time": "2022-02-12T06:27:55.290849",
   "environment_variables": {},
   "exception": null,
   "input_path": "__notebook__.ipynb",
   "output_path": "__notebook__.ipynb",
   "parameters": {},
   "start_time": "2022-02-12T06:23:48.593455",
   "version": "2.3.3"
  }
 },
 "nbformat": 4,
 "nbformat_minor": 5
}
